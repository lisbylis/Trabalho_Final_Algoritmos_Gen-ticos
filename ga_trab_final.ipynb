{
 "cells": [
  {
   "cell_type": "markdown",
   "id": "9ac6f4d1-f0f6-4da7-ba5b-0c7cbef2cc33",
   "metadata": {},
   "source": [
    "# Problema do Roteamento de Veículos"
   ]
  },
  {
   "cell_type": "code",
   "execution_count": 1,
   "id": "f71089a5-d1c6-4a6e-99c3-919380b11a5e",
   "metadata": {},
   "outputs": [],
   "source": [
    "import timeit\n",
    "import matplotlib.pyplot as plt\n",
    "\n",
    "from ga_vehicle_routing import cities_vr, population_vr\n",
    "from ga_vehicle_routing import population_fitness_vr\n",
    "from ga_vehicle_routing import population_switch_mutation_vr, population_partition_mutation_vr\n",
    "from ga_vehicle_routing import population_ordered_crossover_vr\n",
    "from ga_vehicle_routing import tournament_selection_vr"
   ]
  },
  {
   "cell_type": "markdown",
   "id": "d98d6998-b633-4391-8d28-6100d32a4292",
   "metadata": {},
   "source": [
    "## Problema"
   ]
  },
  {
   "cell_type": "markdown",
   "id": "e24e3822-a1c0-4e80-9b3d-a2972998175b",
   "metadata": {},
   "source": [
    "O problema de roteamento de veículos (VRP, em inglês) é a generalização do problema do caixeiro viajante. Ao invés de termos apenas uma pessoa visitando as cidades, agora podemos ter mais que uma. Dessa forma, partindo de uma cidade inicial, temos agora $n$ veículos percorrendo as cidades, com o objetivo de visitar todas apenas uma vez e minimizando a distância. Note que não necessariamente cada veículo tem que passar por todas as cidades, mas o conjunto de veículos como um todo sim. \n",
    "\n",
    "Para esse problema, representamos as soluções como listas de listas, em que a lista maior representa o indivíduo, e as listas contidas nele representam a rota de cada veículo, análogo a representação feita no caixeiro viajante. Por opção, escolhemos excluir a cidade inicial, uma vez que parte da restrição do problema é de que todos os veículos partam e cheguem na mesma cidade inicial.\n",
    "\n",
    "Os operadores genéticos utilizados foram:\n",
    "- Switch mutation: cada cidade de uma rota pode ser trocada com outra da mesma rota.\n",
    "\n",
    "- Partition mutation: cada indivíduo pode ser reparticionado, alterando as cidades que cada veículo vai visitar.\n",
    "\n",
    "- Ordered crossover: primeiro nós concatenamos as rotas, tornando o indivíduo em uma única lista. Em seguida, selecionamos uma parte dele, e criamos um filho com essa parte. Depois adicionamos as cidades faltando na ordem que elas aparecem no outro indivíduo parental, e por fim, particionamos o filho da mesma forma que seu indivíduo parental original.\n",
    "\n",
    "- Tournament selection: selecionamos aleatoriamente uma certa quantidade de indivíduos na população e o melhor fitness desse subconjunto é selecionado.\n",
    "\n",
    "A função objetivo desse problema é a distância total percorrida entre os veículos, ou seja:\n",
    "\\begin{equation}\n",
    "f(X) = \\sum_{x\\in X} d_x\n",
    "\\end{equation}\n",
    "Em que  $d_x$ é a distância percorrida pelo veículo $x$ na solução $X$."
   ]
  },
  {
   "cell_type": "markdown",
   "id": "15dc78be-fcb4-4b54-90d4-3a72dd44087d",
   "metadata": {},
   "source": [
    "## Teste"
   ]
  },
  {
   "cell_type": "markdown",
   "id": "e30214ff-6334-44cf-840b-87f2d811d2f2",
   "metadata": {},
   "source": [
    "Inicialmente, vamos testar nosso código com um problema de 20 cidades e 3 veículos."
   ]
  },
  {
   "cell_type": "code",
   "execution_count": 2,
   "id": "ea8583df-210a-4fe3-be12-154d78f4f330",
   "metadata": {},
   "outputs": [],
   "source": [
    "NUM_CITIES = 10\n",
    "NUM_VEHICLES = 3\n",
    "\n",
    "GENERATIONS = 200\n",
    "COORD_MAX = 100\n",
    "POPULATION_SIZE = 1000\n",
    "TOURNAMENT_INDIVIDUALS = 3\n",
    "CROSSOVER_RATE = 0.1\n",
    "SWITCH_MUTATION_RATE = 0.1\n",
    "ROUTE_MUTATION_RATE = 0.5\n",
    "PARTITION_MUTATION_RATE = 0.1\n",
    "\n",
    "CITIES = cities_vr(NUM_CITIES, COORD_MAX)"
   ]
  },
  {
   "cell_type": "code",
   "execution_count": 3,
   "id": "6696e95c-16f1-4d66-b534-56184b0a948d",
   "metadata": {},
   "outputs": [],
   "source": [
    "population = population_vr(POPULATION_SIZE, NUM_CITIES, NUM_VEHICLES)\n",
    "hof = []\n",
    "\n",
    "start = timeit.default_timer()\n",
    "\n",
    "for _ in range(GENERATIONS):\n",
    "    #Fitness calculation and selection\n",
    "    fitness = population_fitness_vr(population, CITIES)\n",
    "    selected_population = tournament_selection_vr(population, fitness, TOURNAMENT_INDIVIDUALS)\n",
    "    \n",
    "    #Crossover\n",
    "    crossover_population = population_ordered_crossover_vr(selected_population, CROSSOVER_RATE)\n",
    "    \n",
    "    #Switch mutation\n",
    "    switch_mutated_population = population_switch_mutation_vr(crossover_population, SWITCH_MUTATION_RATE, \n",
    "                                                              ROUTE_MUTATION_RATE)\n",
    "    partition_mutated_population = population_partition_mutation_vr(switch_mutated_population, \n",
    "                                                                    PARTITION_MUTATION_RATE)\n",
    "\n",
    "    \n",
    "    #HOF atualization\n",
    "    fitness = population_fitness_vr(partition_mutated_population, CITIES)\n",
    "    best_fitness = min(fitness)\n",
    "    index = fitness.index(best_fitness)\n",
    "    best_individual = partition_mutated_population[index]\n",
    "    hof.append(best_individual)\n",
    "        \n",
    "    #Restarting the population\n",
    "    population = partition_mutated_population\n",
    "    \n",
    "end = timeit.default_timer()"
   ]
  },
  {
   "cell_type": "code",
   "execution_count": 4,
   "id": "9f79c01f-de54-4b73-bfc4-130606bbc37c",
   "metadata": {},
   "outputs": [
    {
     "name": "stdout",
     "output_type": "stream",
     "text": [
      "solution: [[8, 5], [3, 1, 4, 9, 7, 2], [6]], fitness=423.632105946508\n",
      "\n",
      "runtime=10.299s\n"
     ]
    }
   ],
   "source": [
    "fitness = population_fitness_vr(hof, CITIES)\n",
    "best_fitness = min(fitness)\n",
    "index = fitness.index(best_fitness)\n",
    "solution = hof[index]\n",
    "\n",
    "print(f'solution: {solution}, fitness={best_fitness}')\n",
    "print()\n",
    "print(f'runtime={(end - start):.3f}s')"
   ]
  },
  {
   "cell_type": "markdown",
   "id": "cc389e80-f96b-48f7-9bf3-0cc2c870df58",
   "metadata": {},
   "source": [
    "Visualizando as rotas encontradas:"
   ]
  },
  {
   "cell_type": "code",
   "execution_count": 5,
   "id": "9b3acefb-9b68-4718-9f16-bf6477cce06e",
   "metadata": {},
   "outputs": [],
   "source": [
    "x0, y0 = CITIES[0][0], CITIES[0][1] \n",
    "x1, y1 = [CITIES[i][0] for i in solution[0]], [CITIES[i][1] for i in solution[0]]\n",
    "x2, y2 = [CITIES[i][0] for i in solution[1]], [CITIES[i][1] for i in solution[1]]\n",
    "x3, y3 = [CITIES[i][0] for i in solution[2]], [CITIES[i][1] for i in solution[2]]\n",
    "labels = [i for i in range(len(CITIES))]"
   ]
  },
  {
   "cell_type": "code",
   "execution_count": 6,
   "id": "e387e0af-1c24-4ac6-ac15-75cc2bcc4636",
   "metadata": {},
   "outputs": [
    {
     "data": {
      "image/png": "[encoded data removed]",
      "text/plain": [
       "<Figure size 432x288 with 1 Axes>"
      ]
     },
     "metadata": {
      "needs_background": "light"
     },
     "output_type": "display_data"
    }
   ],
   "source": [
    "BLUE = 'b'\n",
    "RED = 'r'\n",
    "YELLOW = 'y'\n",
    "\n",
    "plt.scatter(x1, y1, s=100, label='V1', color=BLUE)\n",
    "plt.scatter(x2, y2, s=100, label='V2', color=RED)\n",
    "plt.scatter(x3, y3, s=100, label='V3', color=YELLOW)\n",
    "plt.scatter(x0, y0, s=100, color='k')\n",
    "plt.annotate(0, (x0, y0), xytext=(0, 5), textcoords='offset points', ha='center', va='bottom')\n",
    "\n",
    "#Ploting route 1\n",
    "for i, label in enumerate(solution[0]):\n",
    "    plt.annotate(label, (x1[i], y1[i]), xytext=(0, 5), textcoords='offset points', ha='center', va='bottom')\n",
    "\n",
    "plt.plot((x0, x1[0]), (y0, y1[0]), color=BLUE, alpha=0.25)\n",
    "plt.plot((x0, x1[-1]), (y0, y1[-1]), color=BLUE, alpha=0.25)\n",
    "\n",
    "for i in range(len(solution[0]) - 1):\n",
    "    plt.plot((x1[i], x1[i+1]), (y1[i], y1[i+1]), color=BLUE, alpha=0.25)\n",
    "\n",
    "#Ploting route 2\n",
    "for i, label in enumerate(solution[1]):\n",
    "    plt.annotate(label, (x2[i], y2[i]), xytext=(0, 5), textcoords='offset points', ha='center', va='bottom')\n",
    "    \n",
    "plt.plot((x0, x2[0]), (y0, y2[0]), color=RED, alpha=0.25)\n",
    "plt.plot((x0, x2[-1]), (y0, y2[-1]), color=RED, alpha=0.25)\n",
    "\n",
    "for i in range(len(solution[1]) - 1):\n",
    "    plt.plot((x2[i], x2[i+1]), (y2[i], y2[i+1]), color=RED, alpha=0.25)\n",
    "    \n",
    "#Ploting route 3\n",
    "for i, label in enumerate(solution[2]):\n",
    "    plt.annotate(label, (x3[i], y3[i]), xytext=(0, 5), textcoords='offset points', ha='center', va='bottom')\n",
    "\n",
    "plt.plot((x0, x3[0]), (y0, y3[0]), color=YELLOW, alpha=0.25)\n",
    "plt.plot((x0, x3[-1]), (y0, y3[-1]), color=YELLOW, alpha=0.25)\n",
    "\n",
    "for i in range(len(solution[2]) - 1):\n",
    "    plt.plot((x3[i], x3[i+1]), (y3[i], y3[i+1]), color=YELLOW, alpha=0.25) \n",
    "    \n",
    "plt.title('Solution found via GA')\n",
    "plt.legend()\n",
    "plt.axis('off')\n",
    "plt.show()"
   ]
  },
  {
   "cell_type": "markdown",
   "id": "f1312e8e-4081-4f03-a7ec-70f90a8d6357",
   "metadata": {},
   "source": [
    "Para testarmos se o algoritmo está consistente com as definições acima, vamos rodá-lo 5 vezes e analisarmos os resultados."
   ]
  },
  {
   "cell_type": "code",
   "execution_count": 7,
   "id": "3321a67b-5e0e-486c-bc88-1fd907144a68",
   "metadata": {},
   "outputs": [
    {
     "name": "stdout",
     "output_type": "stream",
     "text": [
      "solution in iteration 0:\n",
      "[[5, 8], [3, 1, 4, 9, 7, 2], [6]], fitness=423.632105946508\n",
      "\n",
      "solution in iteration 1:\n",
      "[[5, 8], [3, 1, 4, 9, 7, 2], [6]], fitness=423.632105946508\n",
      "\n",
      "solution in iteration 2:\n",
      "[[5, 8], [2, 7, 9, 4, 1, 3], [6]], fitness=423.632105946508\n",
      "\n",
      "solution in iteration 3:\n",
      "[[5, 8], [2, 7, 9, 4, 1, 3], [6]], fitness=423.632105946508\n",
      "\n",
      "solution in iteration 4:\n",
      "[[5, 8], [3, 1, 4, 9, 7, 2], [6]], fitness=423.632105946508\n",
      "\n"
     ]
    }
   ],
   "source": [
    "for i in range(5):\n",
    "    population = population_vr(POPULATION_SIZE, NUM_CITIES, NUM_VEHICLES)\n",
    "    hof = []\n",
    "\n",
    "    for _ in range(GENERATIONS):\n",
    "        #Fitness calculation and selection\n",
    "        fitness = population_fitness_vr(population, CITIES)\n",
    "        selected_population = tournament_selection_vr(population, fitness, TOURNAMENT_INDIVIDUALS)\n",
    "\n",
    "        #Crossover\n",
    "        crossover_population = population_ordered_crossover_vr(selected_population, CROSSOVER_RATE)\n",
    "\n",
    "        #Switch mutation\n",
    "        switch_mutated_population = population_switch_mutation_vr(crossover_population, SWITCH_MUTATION_RATE, \n",
    "                                                                  ROUTE_MUTATION_RATE)\n",
    "        partition_mutated_population = population_partition_mutation_vr(switch_mutated_population, \n",
    "                                                                        PARTITION_MUTATION_RATE)\n",
    "\n",
    "        #HOF atualization\n",
    "        fitness = population_fitness_vr(partition_mutated_population, CITIES)\n",
    "        best_fitness = min(fitness)\n",
    "        index = fitness.index(best_fitness)\n",
    "        best_individual = partition_mutated_population[index]\n",
    "        hof.append(best_individual)\n",
    "\n",
    "        #Restarting the population\n",
    "        population = partition_mutated_population\n",
    "        \n",
    "    fitness = population_fitness_vr(hof, CITIES)\n",
    "    best_fitness = min(fitness)\n",
    "    index = fitness.index(best_fitness)\n",
    "    solution = hof[index]\n",
    "    print(f'solution in iteration {i}:')\n",
    "    print(f'{solution}, fitness={best_fitness}')\n",
    "    print()"
   ]
  },
  {
   "cell_type": "markdown",
   "id": "a62b4391-5920-4f8e-8587-883f4edd0404",
   "metadata": {},
   "source": [
    "Podemos ver que, neste caso, o algoritmo achou a mesma solução nas 5 iterações. É importante notar que rotas que são inversas das outras resultam na mesma distância total."
   ]
  },
  {
   "cell_type": "markdown",
   "id": "c7fb55af-e80e-4fe2-9835-f6ee92899e88",
   "metadata": {},
   "source": [
    "## Comparação entre diferentes números de veículos"
   ]
  },
  {
   "cell_type": "markdown",
   "id": "f2993311-be9f-45c2-b425-25fd7879de9d",
   "metadata": {},
   "source": [
    "Por fim, vamos ver o que acontece com as melhores soluções encontradas quando variamos o número de veículos do problema, mantendo ainda o conjunto de cidades utilizado nas análises acima. Vamos variar o número de veículos de 3 até 8, rodando o algoritmo 5 vezes para cada caso."
   ]
  },
  {
   "cell_type": "code",
   "execution_count": 8,
   "id": "130e7104-5b61-4ced-8c98-86070cb0a4da",
   "metadata": {},
   "outputs": [
    {
     "name": "stdout",
     "output_type": "stream",
     "text": [
      "Number of vehicles: 3\n",
      "solution in iteration 0:\n",
      "[[3, 1, 4, 9, 7, 2], [8, 5], [6]], fitness=423.632105946508\n",
      "\n",
      "Number of vehicles: 3\n",
      "solution in iteration 1:\n",
      "[[2, 7, 9, 4, 1, 3], [8, 5], [6]], fitness=423.632105946508\n",
      "\n",
      "Number of vehicles: 3\n",
      "solution in iteration 2:\n",
      "[[5, 8], [2, 7, 4, 9, 1, 3], [6]], fitness=423.89286971221526\n",
      "\n",
      "Number of vehicles: 3\n",
      "solution in iteration 3:\n",
      "[[8, 5], [2, 7, 9, 4, 1, 3], [6]], fitness=423.632105946508\n",
      "\n",
      "Number of vehicles: 3\n",
      "solution in iteration 4:\n",
      "[[5, 8], [3, 1, 4, 9, 7, 2], [6]], fitness=423.632105946508\n",
      "\n",
      "Number of vehicles: 4\n",
      "solution in iteration 0:\n",
      "[[6], [3, 1, 4, 9, 7, 2], [5], [8]], fitness=522.6165710392925\n",
      "\n",
      "Number of vehicles: 4\n",
      "solution in iteration 1:\n",
      "[[5], [8], [2, 7, 9, 4, 1, 3], [6]], fitness=522.6165710392925\n",
      "\n",
      "Number of vehicles: 4\n",
      "solution in iteration 2:\n",
      "[[8], [5], [2, 7, 9, 4, 1, 3], [6]], fitness=522.6165710392925\n",
      "\n",
      "Number of vehicles: 4\n",
      "solution in iteration 3:\n",
      "[[6], [3, 1, 4, 9, 7, 2], [8], [5]], fitness=522.6165710392925\n",
      "\n",
      "Number of vehicles: 4\n",
      "solution in iteration 4:\n",
      "[[5], [8], [3, 7, 9, 4, 1, 2], [6]], fitness=523.9962533073755\n",
      "\n",
      "Number of vehicles: 5\n",
      "solution in iteration 0:\n",
      "[[8], [2], [3, 7, 9, 4, 1], [5], [6]], fitness=628.4858400579885\n",
      "\n",
      "Number of vehicles: 5\n",
      "solution in iteration 1:\n",
      "[[2], [3, 7, 9, 4, 1], [5], [8], [6]], fitness=628.4858400579885\n",
      "\n",
      "Number of vehicles: 5\n",
      "solution in iteration 2:\n",
      "[[2], [8], [5], [1, 4, 9, 7, 3], [6]], fitness=628.4858400579885\n",
      "\n",
      "Number of vehicles: 5\n",
      "solution in iteration 3:\n",
      "[[2], [3, 7, 9, 4, 1], [5], [8], [6]], fitness=628.4858400579885\n",
      "\n",
      "Number of vehicles: 5\n",
      "solution in iteration 4:\n",
      "[[6], [2], [8], [5], [3, 7, 4, 9, 1]], fitness=628.7466038236958\n",
      "\n",
      "Number of vehicles: 6\n",
      "solution in iteration 0:\n",
      "[[2], [8], [6], [5], [3], [1, 4, 9, 7]], fitness=776.8663320023128\n",
      "\n",
      "Number of vehicles: 6\n",
      "solution in iteration 1:\n",
      "[[8], [3], [7, 9, 4, 1], [5], [6], [2]], fitness=776.8663320023127\n",
      "\n",
      "Number of vehicles: 6\n",
      "solution in iteration 2:\n",
      "[[8], [5], [2], [7, 9, 4, 1], [3], [6]], fitness=776.8663320023128\n",
      "\n",
      "Number of vehicles: 6\n",
      "solution in iteration 3:\n",
      "[[8], [6], [3], [5], [2], [1, 4, 9, 7]], fitness=776.8663320023128\n",
      "\n",
      "Number of vehicles: 6\n",
      "solution in iteration 4:\n",
      "[[8], [5], [7, 9, 4, 1], [3], [2], [6]], fitness=776.8663320023127\n",
      "\n",
      "Number of vehicles: 7\n",
      "solution in iteration 0:\n",
      "[[8], [5], [7], [1, 9, 4], [2], [3], [6]], fitness=929.2805208303656\n",
      "\n",
      "Number of vehicles: 7\n",
      "solution in iteration 1:\n",
      "[[8], [5], [7], [1, 9, 4], [3], [2], [6]], fitness=929.2805208303656\n",
      "\n",
      "Number of vehicles: 7\n",
      "solution in iteration 2:\n",
      "[[5], [8], [7], [3], [1, 9, 4], [2], [6]], fitness=929.2805208303656\n",
      "\n",
      "Number of vehicles: 7\n",
      "solution in iteration 3:\n",
      "[[3], [7], [8], [5], [4, 9, 1], [6], [2]], fitness=929.2805208303656\n",
      "\n",
      "Number of vehicles: 7\n",
      "solution in iteration 4:\n",
      "[[5], [8], [7], [3], [6], [2], [4, 9, 1]], fitness=929.2805208303656\n",
      "\n"
     ]
    }
   ],
   "source": [
    "for NUM_VEHICLES in range(3,8):\n",
    "    for i in range(5):\n",
    "        population = population_vr(POPULATION_SIZE, NUM_CITIES, NUM_VEHICLES)\n",
    "        hof = []\n",
    "    \n",
    "        for _ in range(GENERATIONS):\n",
    "            #Fitness calculation and selection\n",
    "            fitness = population_fitness_vr(population, CITIES)\n",
    "            selected_population = tournament_selection_vr(population, fitness, TOURNAMENT_INDIVIDUALS)\n",
    "    \n",
    "            #Crossover\n",
    "            crossover_population = population_ordered_crossover_vr(selected_population, CROSSOVER_RATE)\n",
    "    \n",
    "            #Switch mutation\n",
    "            switch_mutated_population = population_switch_mutation_vr(crossover_population, SWITCH_MUTATION_RATE, \n",
    "                                                                      ROUTE_MUTATION_RATE)\n",
    "            partition_mutated_population = population_partition_mutation_vr(switch_mutated_population, \n",
    "                                                                            PARTITION_MUTATION_RATE)\n",
    "    \n",
    "            #HOF atualization\n",
    "            fitness = population_fitness_vr(partition_mutated_population, CITIES)\n",
    "            best_fitness = min(fitness)\n",
    "            index = fitness.index(best_fitness)\n",
    "            best_individual = partition_mutated_population[index]\n",
    "            hof.append(best_individual)\n",
    "    \n",
    "            #Restarting the population\n",
    "            population = partition_mutated_population\n",
    "            \n",
    "        fitness = population_fitness_vr(hof, CITIES)\n",
    "        best_fitness = min(fitness)\n",
    "        index = fitness.index(best_fitness)\n",
    "        solution = hof[index]\n",
    "        print(f'Number of vehicles: {NUM_VEHICLES}')\n",
    "        print(f'solution in iteration {i}:')\n",
    "        print(f'{solution}, fitness={best_fitness}')\n",
    "        print()"
   ]
  },
  {
   "cell_type": "markdown",
   "id": "b4709d1d-8cbf-43a1-b59f-5410ebf42770",
   "metadata": {},
   "source": [
    "Como podemos ver, a distância total percorrida pelos veículos aumentou conforme aumentamos o número de veículos percorrendo as cidades. Apesar de não termos certeza que em cada iteração obtemos a solução ótima do problema, conseguimos ver que rodando 5 iterações com cada número de veículos, a tendência da distância total aumentar. Isso nos mostra que nem sempre aumentar o número de veículos é benéfico para a logística do nosso problema."
   ]
  }
 ],
 "metadata": {
  "kernelspec": {
   "display_name": "Python 3 (ipykernel)",
   "language": "python",
   "name": "python3"
  },
  "language_info": {
   "codemirror_mode": {
    "name": "ipython",
    "version": 3
   },
   "file_extension": ".py",
   "mimetype": "text/x-python",
   "name": "python",
   "nbconvert_exporter": "python",
   "pygments_lexer": "ipython3",
   "version": "3.10.8"
  }
 },
 "nbformat": 4,
 "nbformat_minor": 5
}
